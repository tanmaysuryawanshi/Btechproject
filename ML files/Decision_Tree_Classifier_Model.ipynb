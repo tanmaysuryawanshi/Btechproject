{
  "nbformat": 4,
  "nbformat_minor": 0,
  "metadata": {
    "colab": {
      "provenance": []
    },
    "kernelspec": {
      "name": "python3",
      "display_name": "Python 3"
    },
    "language_info": {
      "name": "python"
    }
  },
  "cells": [
    {
      "cell_type": "markdown",
      "source": [
        "Decision Tree Classifier"
      ],
      "metadata": {
        "id": "HTyFXv2rwXfG"
      }
    },
    {
      "cell_type": "code",
      "execution_count": null,
      "metadata": {
        "id": "wVryKnABsVZg"
      },
      "outputs": [],
      "source": [
        "import pandas as pd\n",
        "from sklearn.model_selection import train_test_split\n",
        "from sklearn.tree import DecisionTreeClassifier\n",
        "from sklearn.metrics import accuracy_score\n",
        "from sklearn.impute import SimpleImputer\n",
        "\n",
        "data = pd.read_excel('/content/predicted_dataset.xlsx')\n",
        "print(data.columns)\n",
        "# Impute missing values (replace NaN with mean)\n",
        "imputer = SimpleImputer(strategy='mean')\n",
        "X = data[['Humidity', 'Day Temp', 'Night Temp', 'Crop Growth']]\n",
        "X = imputer.fit_transform(X)\n",
        "# Define target variable\n",
        "y = data['Risk']\n",
        "# Split the data into training and testing sets\n",
        "X_train, X_test, y_train, y_test = train_test_split(X, y, test_size=0.2, random_state=42)\n",
        "\n",
        "# Build a machine learning model (Decision Tree Classifier)\n",
        "model = DecisionTreeClassifier()\n",
        "# Train the model on the training data\n",
        "model.fit(X_train, y_train)\n",
        "# Make predictions on the testing data\n",
        "y_pred = model.predict(X_test)\n",
        "\n",
        "# Evaluate the model's performance\n",
        "accuracy = accuracy_score(y_test, y_pred)\n",
        "print(\"Model Accuracy:\", accuracy)\n",
        "\n",
        "# Now, you can use the trained model to make predictions for new data\n",
        "new_data = pd.DataFrame({'Humidity': [1], 'Day Temp': [1],'Night Temp': [2], 'Crop Growth': [3]})\n",
        "new_data = imputer.transform(new_data)\n",
        "predicted_risk = model.predict(new_data)\n",
        "print(\"Predicted Risk for New Data:\", predicted_risk)"
      ]
    },
    {
      "cell_type": "markdown",
      "source": [
        "Metrics"
      ],
      "metadata": {
        "id": "SChJoDUpwasX"
      }
    },
    {
      "cell_type": "code",
      "source": [
        "import pandas as pd\n",
        "import seaborn as sns\n",
        "import matplotlib.pyplot as plt\n",
        "from sklearn.model_selection import train_test_split\n",
        "from sklearn.tree import DecisionTreeClassifier\n",
        "from sklearn.metrics import accuracy_score\n",
        "from sklearn.impute import SimpleImputer\n",
        "from sklearn.metrics import precision_score, recall_score, confusion_matrix\n",
        "\n",
        "# Load data\n",
        "data = pd.read_excel('/content/predicted_dataset.xlsx')\n",
        "\n",
        "# Impute missing values (replace NaN with mean)\n",
        "imputer = SimpleImputer(strategy='mean')\n",
        "X = data[['Humidity', 'Day Temp', 'Night Temp', 'Crop Growth']]\n",
        "X = imputer.fit_transform(X)\n",
        "\n",
        "# Define target variable\n",
        "y = data['Risk']\n",
        "\n",
        "# Split the data into training and testing sets\n",
        "X_train, X_test, y_train, y_test = train_test_split(X, y, test_size=0.2, random_state=42)\n",
        "\n",
        "# Build a machine learning model (Decision Tree Classifier)\n",
        "model = DecisionTreeClassifier()\n",
        "\n",
        "# Train the model on the training data\n",
        "model.fit(X_train, y_train)\n",
        "\n",
        "# Make predictions on the testing data\n",
        "y_pred = model.predict(X_test)\n",
        "\n",
        "########### Metrics\n",
        "# Evaluate the model's performance\n",
        "accuracy = accuracy_score(y_test, y_pred)\n",
        "print(\"Model Accuracy:\", accuracy)\n",
        "\n",
        "# Calculate Precision\n",
        "precision = precision_score(y_test, y_pred, average='weighted')\n",
        "print(\"Precision:\", precision)\n",
        "\n",
        "# Calculate Recall\n",
        "recall = recall_score(y_test, y_pred, average='weighted')\n",
        "print(\"Recall:\", recall)\n",
        "\n",
        "# Calculate Confusion Matrix\n",
        "conf_matrix = confusion_matrix(y_test, y_pred)\n",
        "print(\"Confusion Matrix:\")\n",
        "print(conf_matrix)\n",
        "\n",
        "# Plot the colorful confusion matrix with custom labels\n",
        "labels = ['High Risk', 'Moderate Risk', 'Low Risk', 'No Risk']\n",
        "plt.figure(figsize=(8, 6))\n",
        "sns.heatmap(conf_matrix, annot=True, fmt='d', cmap='Blues', cbar=False,\n",
        "            xticklabels=labels, yticklabels=labels)\n",
        "plt.xlabel('Predicted Labels')\n",
        "plt.ylabel('True Labels')\n",
        "plt.title('Confusion Matrix')\n",
        "plt.show()"
      ],
      "metadata": {
        "colab": {
          "base_uri": "https://localhost:8080/",
          "height": 703
        },
        "id": "Im03h_vguTXA",
        "outputId": "fdbaddb3-9fe3-4ff7-db7b-a56e7c138304"
      },
      "execution_count": null,
      "outputs": [
        {
          "output_type": "stream",
          "name": "stdout",
          "text": [
            "Model Accuracy: 0.9038461538461539\n",
            "Precision: 0.9057569033530571\n",
            "Recall: 0.9038461538461539\n",
            "Confusion Matrix:\n",
            "[[18  1  0  0]\n",
            " [ 1 11  1  0]\n",
            " [ 0  0  7  2]\n",
            " [ 0  0  0 11]]\n"
          ]
        },
        {
          "output_type": "display_data",
          "data": {
            "text/plain": [
              "<Figure size 800x600 with 1 Axes>"
            ],
            "image/png": "[encoded data removed]"
          },
          "metadata": {}
        }
      ]
    },
    {
      "cell_type": "markdown",
      "source": [
        "Classification report"
      ],
      "metadata": {
        "id": "d4_difVbwLdl"
      }
    },
    {
      "cell_type": "code",
      "source": [
        "import pandas as pd\n",
        "from sklearn.model_selection import train_test_split\n",
        "from sklearn.tree import DecisionTreeClassifier  # Changed import\n",
        "from sklearn.metrics import accuracy_score, classification_report, confusion_matrix\n",
        "from sklearn.impute import SimpleImputer\n",
        "from sklearn.preprocessing import StandardScaler\n",
        "import tensorflow as tf\n",
        "from tensorflow import keras\n",
        "\n",
        "# Load the dataset\n",
        "data = pd.read_excel('/content/predicted_dataset.xlsx')\n",
        "\n",
        "# Impute missing values (replace NaN with mean)\n",
        "imputer = SimpleImputer(strategy='mean')\n",
        "X = data[['Humidity', 'Day Temp', 'Night Temp', 'Crop Growth']]\n",
        "X = imputer.fit_transform(X)\n",
        "y = data['Risk']\n",
        "\n",
        "# Ensure labels start from 0\n",
        "y = y - 1\n",
        "\n",
        "# Split the data into training and testing sets\n",
        "X_train, X_test, y_train, y_test = train_test_split(X, y, test_size=0.2, random_state=42)\n",
        "\n",
        "# Standardize the data for Neural Network\n",
        "scaler = StandardScaler()\n",
        "X_train_scaled = scaler.fit_transform(X_train)\n",
        "X_test_scaled = scaler.transform(X_test)\n",
        "\n",
        "# Build a DecisionTreeClassifier with adjusted hyperparameters\n",
        "model_dt = DecisionTreeClassifier(max_depth=15, random_state=42)  # Changed to DecisionTreeClassifier\n",
        "model_dt.fit(X_train, y_train)\n",
        "\n",
        "# Evaluate the Decision Tree model\n",
        "y_pred_dt = model_dt.predict(X_test)\n",
        "accuracy_dt = accuracy_score(y_test, y_pred_dt)\n",
        "classification_rep_dt = classification_report(y_test, y_pred_dt, target_names=['Class 1', 'Class 2', 'Class 3', 'Class 4'])\n",
        "conf_matrix_dt = confusion_matrix(y_test, y_pred_dt)\n",
        "\n",
        "# Print metrics for Decision Tree\n",
        "print(\"Decision Tree Model Metrics:\")\n",
        "print(\"Accuracy:\", accuracy_dt)\n",
        "print(\"Classification Report:\\n\", classification_rep_dt)\n",
        "print(\"Confusion Matrix:\\n\", conf_matrix_dt)"
      ],
      "metadata": {
        "colab": {
          "base_uri": "https://localhost:8080/"
        },
        "id": "Ab9R6kcxwNZr",
        "outputId": "166ddd34-ce27-45f7-9ca0-6fa338fa510d"
      },
      "execution_count": null,
      "outputs": [
        {
          "output_type": "stream",
          "name": "stdout",
          "text": [
            "Decision Tree Model Metrics:\n",
            "Accuracy: 0.9038461538461539\n",
            "Classification Report:\n",
            "               precision    recall  f1-score   support\n",
            "\n",
            "     Class 1       1.00      1.00      1.00        19\n",
            "     Class 2       1.00      0.92      0.96        13\n",
            "     Class 3       0.75      0.67      0.71         9\n",
            "     Class 4       0.77      0.91      0.83        11\n",
            "\n",
            "    accuracy                           0.90        52\n",
            "   macro avg       0.88      0.87      0.87        52\n",
            "weighted avg       0.91      0.90      0.90        52\n",
            "\n",
            "Confusion Matrix:\n",
            " [[19  0  0  0]\n",
            " [ 0 12  1  0]\n",
            " [ 0  0  6  3]\n",
            " [ 0  0  1 10]]\n"
          ]
        }
      ]
    }
  ]
}